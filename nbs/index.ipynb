{
 "cells": [
  {
   "cell_type": "code",
   "execution_count": 5,
   "metadata": {},
   "outputs": [],
   "source": [
    "#| hide\n",
    "from pybps.bps import *"
   ]
  },
  {
   "cell_type": "markdown",
   "metadata": {},
   "source": [
    "# pybps\n",
    "\n",
    "> A python implementation of Bayesian Predictive Synthesis"
   ]
  },
  {
   "cell_type": "markdown",
   "metadata": {},
   "source": [
    "BPS is an ensemble method, meant for aggregating and synthesizing density predictions from multiple agents/experts/judges. There is quite a wide field of literature for ensembling point forecasts, but point forecasts are very limited. The shape and variance of a distribution is equally important as the mean. Therefore, consider soliciting density predictions from $J$ judges. Each judge, $j = 1,...,J$ gives a density  $h_j(\\cdot)$. The set of these predictions is $H = \\{h_1(\\cdot), ... , h_J(\\cdot)\\}$. We would like to predict an outcome $y$, given this information $H$. Typically, in Bayesian Analysis, we would find the posterior $p(y|H)$ and be done with it. However, the posterior is found via $p(y|H) \\propto p(H|y)p(y)$, and $p(H|y)$ is either impossible to find or necessitates significant modeling assumptions, making the value highly subjective. \n",
    "\n",
    "\n",
    "If we introduce a latent variable $\\x$, then we may be able to write the posterior as\n",
    "\\begin{equation}\n",
    "p(y|H) = \\int_{\\x}p(y|\\x, H)p(\\x|H)d\\x\n",
    "\\end{equation}\n",
    "\n",
    "If we set up the structure correctly, we could even have $(y|\\x) \\perp H$, making our above formula \\begin{equation}\n",
    "p(y|H) = \\int_{\\x}p(y|\\x)p(\\x|H)d\\x\n",
    "\\end{equation}\n",
    "\n",
    "Let's say that the latent variable $\\x$ is a J-dimensional random variable from $\\x\\sim p(\\x|H)$. The next question is how to we get $\\x \\sim p(\\x|H)$? Quite simply, we can say these latent variables are \"generated independently from the $h_j$\", that is $x_j \\sim h_j(\\cdot)$ for $j=1:J$, and then $\\x = (x_1,..., x_J)$. Due do independence of the random draws, we can write: \\begin{equation}p(y|H) = \\int_{\\x}p(y|\\x)\\prod_{j=1:J} h_j(x_j) d\\x\\end{equation}\n",
    "\n",
    "The above formula gives the underpinning for Bayesian Predictive Synthesis. One of the nice things about BPS is that the conditional density $p(y|\\x)$, or \"synthesis function\", is not set in stone. We Given covariates $\\x$, $p(y|\\x)$ must predict an outcome $y$. This prediction problem is extremely common, and we can use tools that we are all familiar with, such as a linear regression. There are limitless choices, and you can use your favorite method in this role. In traditional BPS literature, we use the symbol $\\alpha(y|\\x)$ to represent this synthesis function. For clarity if one chooses to read the formal literature, I will use this alpha notation from here on out. \n",
    "\n",
    "This package can carry out BPS for time series data $y_t$ for $t\\in 1:T$. At each time $t$, the decision maker has access to the past values of $y$, given by $D_{t-1} = \\{y_1,y_2,...,y_{t-1}\\}$, and the forecasts from the agents up to and including time $t$: $H_{1:t}$"
   ]
  },
  {
   "cell_type": "markdown",
   "metadata": {},
   "source": [
    "## Install"
   ]
  },
  {
   "cell_type": "markdown",
   "metadata": {},
   "source": [
    "```sh\n",
    "pip install pybps\n",
    "```"
   ]
  },
  {
   "cell_type": "markdown",
   "metadata": {},
   "source": [
    "## How to use"
   ]
  },
  {
   "cell_type": "markdown",
   "metadata": {},
   "source": [
    "Bayesian Predictive Synthesis is a foundationally sound way to combine density forecasts."
   ]
  },
  {
   "cell_type": "code",
   "execution_count": null,
   "metadata": {},
   "outputs": [],
   "source": []
  },
  {
   "cell_type": "code",
   "execution_count": null,
   "metadata": {},
   "outputs": [],
   "source": []
  }
 ],
 "metadata": {
  "kernelspec": {
   "display_name": "Python 3 (ipykernel)",
   "language": "python",
   "name": "python3"
  },
  "language_info": {
   "codemirror_mode": {
    "name": "ipython",
    "version": 3
   },
   "file_extension": ".py",
   "mimetype": "text/x-python",
   "name": "python",
   "nbconvert_exporter": "python",
   "pygments_lexer": "ipython3",
   "version": "3.8.5"
  }
 },
 "nbformat": 4,
 "nbformat_minor": 4
}
